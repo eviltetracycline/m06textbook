{
 "cells": [
  {
   "cell_type": "code",
   "execution_count": 5,
   "id": "0b701a9b-bfc3-46ce-805d-bc93b75de5e8",
   "metadata": {},
   "outputs": [
    {
     "data": {
      "text/plain": [
       "'today.txt'"
      ]
     },
     "execution_count": 5,
     "metadata": {},
     "output_type": "execute_result"
    }
   ],
   "source": [
    "from datetime import datetime\n",
    "\n",
    "current_date = datetime.now().strftime(\"%Y-%m-%d\")\n",
    "\n",
    "file_path = 'today.txt'\n",
    "with open(file_path, 'w') as file:\n",
    "    file.write(current_date)\n",
    "\n",
    "file_path"
   ]
  },
  {
   "cell_type": "code",
   "execution_count": 7,
   "id": "d1ba778b-2b33-4c13-a353-94bb58f39023",
   "metadata": {},
   "outputs": [
    {
     "data": {
      "text/plain": [
       "'2024-09-29'"
      ]
     },
     "execution_count": 7,
     "metadata": {},
     "output_type": "execute_result"
    }
   ],
   "source": [
    "file_path = 'today.txt'\n",
    "with open(file_path, 'r') as file:\n",
    "    today_string = file.read()\n",
    "\n",
    "today_string"
   ]
  },
  {
   "cell_type": "code",
   "execution_count": 13,
   "id": "e7f98435-6692-48c0-a75c-dd331522d534",
   "metadata": {},
   "outputs": [
    {
     "data": {
      "text/plain": [
       "datetime.datetime(2024, 9, 29, 0, 0)"
      ]
     },
     "execution_count": 13,
     "metadata": {},
     "output_type": "execute_result"
    }
   ],
   "source": [
    "from dateutil import parser\n",
    "\n",
    "# Parse the date using dateutil's parser\n",
    "parsed = parser.parse(today_string)\n",
    "\n",
    "parsed"
   ]
  },
  {
   "cell_type": "code",
   "execution_count": 25,
   "id": "284b360d-de78-41b1-8273-df03c9153cb7",
   "metadata": {},
   "outputs": [],
   "source": [
    "import multiprocessing\n",
    "import time\n",
    "import random\n",
    "from datetime import datetime\n",
    "\n",
    "\n",
    "def process_function():\n",
    "    wait_time = random.uniform(0, 1)\n",
    "    time.sleep(wait_time)            \n",
    "    print(f\"Current time: {datetime.now()}\")  \n",
    "\n",
    "if __name__ == \"__main__\":\n",
    "    processes = []\n",
    "    for _ in range(3):\n",
    "        p = multiprocessing.Process(target=process_function)\n",
    "        processes.append(p)\n",
    "        p.start()\n",
    "      \n"
   ]
  },
  {
   "cell_type": "code",
   "execution_count": null,
   "id": "9e7f14d2-0bd1-4d5a-a524-8bcf3d2a7a0d",
   "metadata": {},
   "outputs": [],
   "source": []
  }
 ],
 "metadata": {
  "kernelspec": {
   "display_name": "Python 3 (ipykernel)",
   "language": "python",
   "name": "python3"
  },
  "language_info": {
   "codemirror_mode": {
    "name": "ipython",
    "version": 3
   },
   "file_extension": ".py",
   "mimetype": "text/x-python",
   "name": "python",
   "nbconvert_exporter": "python",
   "pygments_lexer": "ipython3",
   "version": "3.12.4"
  }
 },
 "nbformat": 4,
 "nbformat_minor": 5
}
